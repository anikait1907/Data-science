{
  "nbformat": 4,
  "nbformat_minor": 0,
  "metadata": {
    "colab": {
      "private_outputs": true,
      "provenance": []
    },
    "kernelspec": {
      "name": "python3",
      "display_name": "Python 3"
    },
    "language_info": {
      "name": "python"
    }
  },
  "cells": [
    {
      "cell_type": "code",
      "execution_count": null,
      "metadata": {
        "id": "Zna4uVRF9OMw"
      },
      "outputs": [],
      "source": [
        "# CHI-SQUARE TEST\n",
        "\n",
        "import numpy as np\n",
        "import scipy.stats as stats\n",
        "\n",
        "# Data provided in the contingency table\n",
        "observed = np.array([[50, 70],\n",
        "                     [80, 100],\n",
        "                     [60, 90],\n",
        "                     [30, 50],\n",
        "                     [20, 50]])\n",
        "\n",
        "# Step 2: Compute the Chi-Square Statistic\n",
        "chi2_stat, p_val, dof, expected = stats.chi2_contingency(observed)\n",
        "\n",
        "print(\"Chi-Square Statistic:\", chi2_stat)\n",
        "print(\"P-Value:\", p_val)\n",
        "print(\"Degrees of Freedom:\", dof)\n",
        "print(\"Expected Frequencies Table:\")\n",
        "print(expected)\n",
        "\n",
        "# Step 3: Determine the Critical Value\n",
        "alpha = 0.05\n",
        "critical_value = stats.chi2.ppf(1 - alpha, dof)\n",
        "print(\"Critical Value:\", critical_value)\n",
        "\n",
        "# Step 4: Make a Decision\n",
        "if chi2_stat > critical_value:\n",
        "    print(\"Reject the null hypothesis.\")\n",
        "else:\n",
        "    print(\"Fail to reject the null hypothesis.\")\n"
      ]
    },
    {
      "cell_type": "code",
      "source": [
        "# HYPOTHESIS TESTING\n",
        "\n",
        "# Step 1: State the Hypotheses statement\n",
        "# Null Hypothesis (H0): The weekly operating cost model is accurate, i.e., the mean weekly cost is equal to the theoretical mean weekly cost.\n",
        "# Alternative Hypothesis (H1): The weekly operating cost model is not accurate, i.e., the mean weekly cost is greater than the theoretical mean weekly cost.\n",
        "\n",
        "# Step 2: Calculate the Test Statistic\n",
        "# Calculate the theoretical mean weekly cost using the cost model\n",
        "theoretical_mean_weekly_cost = 1000 + 5 * 600\n",
        "print(\"Theoretical mean weekly cost:\", theoretical_mean_weekly_cost)\n",
        "\n",
        "# Calculate the sample mean weekly cost\n",
        "sample_mean_weekly_cost = 3050\n",
        "print(\"Sample mean weekly cost:\", sample_mean_weekly_cost)\n",
        "\n",
        "# Calculate the standard deviation of the sample\n",
        "sigma = 5 * 25\n",
        "print(\"Standard deviation of the sample:\", sigma)\n",
        "\n",
        "# Calculate the test statistic (t)\n",
        "n = 25  # sample size\n",
        "t = (sample_mean_weekly_cost - theoretical_mean_weekly_cost) / (sigma / n**0.5)\n",
        "print(\"Test statistic (t):\", t)\n",
        "\n",
        "# Step 3: Determine the Critical Value\n",
        "# Using the alpha level of 5% (α = 0.05), determine the critical value from the standard normal (Z) distribution table.\n",
        "from scipy.stats import norm\n",
        "alpha = 0.05\n",
        "critical_value = norm.ppf(1 - alpha)\n",
        "print(\"Critical value:\", critical_value)\n",
        "\n",
        "# Step 4: Make a Decision\n",
        "# Compare the test statistic with the critical value to decide whether to reject the null hypothesis.\n",
        "if t > critical_value:\n",
        "    print(\"Reject the null hypothesis. There is strong evidence to support the restaurant owners' claim that the weekly operating costs are higher than the model suggests.\")\n",
        "else:\n",
        "    print(\"Fail to reject the null hypothesis. There is no strong evidence to support the restaurant owners' claim that the weekly operating costs are higher than the model suggests.\")\n",
        "\n",
        "# Step 5: Conclusion\n",
        "# Based on the decision in step 4, conclude whether there is strong evidence to support the restaurant owners' claim.\n",
        "print(\"Conclusion:\")\n",
        "if t > critical_value:\n",
        "    print(\"The data suggests that the weekly operating costs are higher than the model suggests, supporting the restaurant owners' claim.\")\n",
        "else:\n",
        "    print(\"The data does not suggest that the weekly operating costs are higher than the model suggests, failing to support the restaurant owners' claim.\")"
      ],
      "metadata": {
        "id": "G77MW50K-xqW"
      },
      "execution_count": null,
      "outputs": []
    }
  ]
}