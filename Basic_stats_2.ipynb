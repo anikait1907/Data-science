{
  "nbformat": 4,
  "nbformat_minor": 0,
  "metadata": {
    "colab": {
      "private_outputs": true,
      "provenance": []
    },
    "kernelspec": {
      "name": "python3",
      "display_name": "Python 3"
    },
    "language_info": {
      "name": "python"
    }
  },
  "cells": [
    {
      "cell_type": "code",
      "execution_count": null,
      "metadata": {
        "id": "so8my_Tt3zYA"
      },
      "outputs": [],
      "source": [
        "import numpy as np\n",
        "import scipy.stats as stats\n",
        "\n",
        "# Data provided\n",
        "data = np.array([1.13, 1.55, 1.43, 0.92, 1.25, 1.36, 1.32, 0.85, 1.07, 1.48, 1.20, 1.33, 1.18, 1.22, 1.29])\n",
        "\n",
        "# Sample size (n)\n",
        "n = len(data)\n",
        "\n",
        "# Sample mean (x̄)\n",
        "sample_mean = np.mean(data)\n",
        "\n",
        "# Sample standard deviation (s)\n",
        "sample_std = np.std(data, ddof=1)\n",
        "\n",
        "# Degrees of freedom (df)\n",
        "df = n - 1\n",
        "\n",
        "# t-critical value for 99% confidence interval\n",
        "t_critical = stats.t.ppf(0.995, df)\n",
        "\n",
        "# Margin of error (ME) for Task A\n",
        "ME_task_a = t_critical * (sample_std / np.sqrt(n))\n",
        "\n",
        "# Confidence interval for Task A\n",
        "ci_task_a = (sample_mean - ME_task_a, sample_mean + ME_task_a)\n",
        "\n",
        "# Known population standard deviation (σ) for Task B\n",
        "population_std = 0.2\n",
        "\n",
        "# z-critical value for 99% confidence interval\n",
        "z_critical = stats.norm.ppf(0.995)\n",
        "\n",
        "# Margin of error (ME) for Task B\n",
        "ME_task_b = z_critical * (population_std / np.sqrt(n))\n",
        "\n",
        "# Confidence interval for Task B\n",
        "ci_task_b = (sample_mean - ME_task_b, sample_mean + ME_task_b)\n",
        "\n",
        "# Output results\n",
        "print(\"Sample Mean:\", sample_mean)\n",
        "print(\"Sample Standard Deviation:\", sample_std)\n",
        "print(\"Confidence Interval for Task A (using sample std):\", ci_task_a)\n",
        "print(\"Confidence Interval for Task B (using population std):\", ci_task_b)\n",
        "\n"
      ]
    }
  ]
}