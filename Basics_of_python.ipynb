{
  "nbformat": 4,
  "nbformat_minor": 0,
  "metadata": {
    "colab": {
      "private_outputs": true,
      "provenance": []
    },
    "kernelspec": {
      "name": "python3",
      "display_name": "Python 3"
    },
    "language_info": {
      "name": "python"
    }
  },
  "cells": [
    {
      "cell_type": "code",
      "execution_count": null,
      "metadata": {
        "id": "jYH7ReF35vN4"
      },
      "outputs": [],
      "source": [
        "# Exercise-1 Prime Numbers\n",
        "\n",
        "def is_prime(n):\n",
        "    \"\"\"\n",
        "    Checks if a given number is prime or not.\n",
        "    A prime number is a natural number greater than 1 that has no positive divisors other than 1 and itself.\n",
        "    \"\"\"\n",
        "    if n <= 1:\n",
        "        return False\n",
        "    for i in range(2, int(n ** 0.5) + 1):\n",
        "        if n % i == 0:\n",
        "            return False\n",
        "    return True\n",
        "\n",
        "# Test the function\n",
        "num = int(input(\"Enter a number: \"))\n",
        "if is_prime(num):\n",
        "    print(f\"{num} is a prime number.\")\n",
        "else:\n",
        "    print(f\"{num} is not a prime number.\")"
      ]
    },
    {
      "cell_type": "code",
      "source": [
        "# Exercise-2 Product of Random Numbers\n",
        "\n",
        "import random\n",
        "\n",
        "def product_of_random_numbers():\n",
        "    \"\"\"\n",
        "    Generates two random numbers and asks the user to enter the product of these numbers.\n",
        "    \"\"\"\n",
        "    num1 = random.randint(1, 100)\n",
        "    num2 = random.randint(1, 100)\n",
        "    product = num1 * num2\n",
        "    user_answer = int(input(f\"What is the product of {num1} and {num2}? \"))\n",
        "    if user_answer == product:\n",
        "        print(\"Correct!\")\n",
        "    else:\n",
        "        print(f\"Sorry, the correct answer is {product}.\")\n",
        "\n",
        "product_of_random_numbers()"
      ],
      "metadata": {
        "id": "K-r8r6S-6L30"
      },
      "execution_count": null,
      "outputs": []
    },
    {
      "cell_type": "code",
      "source": [
        "# Exercise-3 Squares of Even/Odd Numbers\n",
        "\n",
        "def squares_of_numbers(start, end, choice):\n",
        "    \"\"\"\n",
        "    Prints the squares of all even or odd numbers within a given range.\n",
        "    \"\"\"\n",
        "    for i in range(start, end + 1):\n",
        "        if (choice == \"even\" and i % 2 == 0) or (choice == \"odd\" and i % 2 != 0):\n",
        "            print(f\"{i}^2 = {i ** 2}\")\n",
        "\n",
        "# Choose either even or odd numbers\n",
        "choice = \"even\"\n",
        "start = 100\n",
        "end = 200\n",
        "squares_of_numbers(start, end, choice)"
      ],
      "metadata": {
        "id": "FjyFxUfm6eVx"
      },
      "execution_count": null,
      "outputs": []
    },
    {
      "cell_type": "code",
      "source": [
        "# Exercise-4 Word counter\n",
        "\n",
        "def word_counter(text):\n",
        "    \"\"\"\n",
        "    Counts the number of occurrences of each word in a given text.\n",
        "    \"\"\"\n",
        "    words = text.split()\n",
        "    word_freq = {}\n",
        "    for word in words:\n",
        "        word = word.lower()\n",
        "        if word not in word_freq:\n",
        "            word_freq[word] = 1\n",
        "        else:\n",
        "            word_freq[word] += 1\n",
        "    for word, freq in word_freq.items():\n",
        "        print(f\"{word}: {freq}\")\n",
        "\n",
        "input_text = \"This is a sample text. This text will be used to demonstrate the word counter.\"\n",
        "word_counter(input_text)"
      ],
      "metadata": {
        "id": "Bx-j3Nbe7Dsz"
      },
      "execution_count": null,
      "outputs": []
    },
    {
      "cell_type": "code",
      "source": [
        "# Exercise 5: Check for Palindrome\n",
        "\n",
        "def is_palindrome(s):\n",
        "    \"\"\"\n",
        "    Checks if a given string is a palindrome or not.\n",
        "    A palindrome is a word, phrase, number, or other sequence of characters that reads the same forward and backward, ignoring spaces, punctuation, and capitalization.\n",
        "    \"\"\"\n",
        "    s = s.replace(\" \", \"\").lower()  # remove spaces and convert to lowercase\n",
        "    return s == s[::-1]  # check if the string is the same forwards and backwards\n",
        "\n",
        "# Example usage:\n",
        "print(f\"Is 'racecar' a palindrome? {is_palindrome('racecar')}\")  # Expected Output: True\n",
        "print(f\"Is 'hello' a palindrome? {is_palindrome('hello')}\")      # Expected Output: False\n"
      ],
      "metadata": {
        "id": "GPKLKOkJ7Xhr"
      },
      "execution_count": null,
      "outputs": []
    }
  ]
}