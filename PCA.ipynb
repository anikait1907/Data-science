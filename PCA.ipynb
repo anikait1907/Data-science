{
  "nbformat": 4,
  "nbformat_minor": 0,
  "metadata": {
    "colab": {
      "private_outputs": true,
      "provenance": []
    },
    "kernelspec": {
      "name": "python3",
      "display_name": "Python 3"
    },
    "language_info": {
      "name": "python"
    }
  },
  "cells": [
    {
      "cell_type": "code",
      "execution_count": null,
      "metadata": {
        "id": "GER0H-TjFeuy"
      },
      "outputs": [],
      "source": [
        "# Import necessary libraries\n",
        "import pandas as pd\n",
        "import numpy as np\n",
        "import matplotlib.pyplot as plt\n",
        "import seaborn as sns\n",
        "from sklearn.preprocessing import StandardScaler\n",
        "from sklearn.decomposition import PCA\n",
        "from sklearn.cluster import KMeans\n",
        "from sklearn.metrics import silhouette_score, davies_bouldin_score\n",
        "\n",
        "# Load the dataset\n",
        "df = pd.read_csv('/content/wine.csv')\n",
        "\n",
        "# Check the first few rows\n",
        "df.head()\n"
      ]
    },
    {
      "cell_type": "code",
      "source": [
        "# Basic statistics\n",
        "print(df.describe())\n",
        "\n",
        "# Visualize distribution of features using histograms\n",
        "df.hist(bins=20, figsize=(20, 15))\n",
        "plt.show()\n",
        "\n",
        "# Visualize correlation matrix using a heatmap\n",
        "plt.figure(figsize=(10, 8))\n",
        "sns.heatmap(df.corr(), annot=True, cmap='coolwarm')\n",
        "plt.title('Feature Correlation Matrix')\n",
        "plt.show()\n",
        "\n",
        "# Pairplot for selected features\n",
        "sns.pairplot(df)\n",
        "plt.show()\n"
      ],
      "metadata": {
        "id": "hYJOzWnlFqiL"
      },
      "execution_count": null,
      "outputs": []
    },
    {
      "cell_type": "code",
      "source": [
        "# Standardize the data\n",
        "scaler = StandardScaler()\n",
        "scaled_data = scaler.fit_transform(df)\n",
        "\n",
        "# Implement PCA\n",
        "pca = PCA()\n",
        "pca_data = pca.fit_transform(scaled_data)\n",
        "\n",
        "# Scree plot to determine optimal number of components\n",
        "plt.figure(figsize=(8, 6))\n",
        "plt.plot(np.cumsum(pca.explained_variance_ratio_), marker='o')\n",
        "plt.xlabel('Number of Components')\n",
        "plt.ylabel('Cumulative Explained Variance')\n",
        "plt.title('Scree Plot')\n",
        "plt.grid(True)\n",
        "plt.show()\n",
        "\n",
        "# Choose optimal number of components (e.g., 2)\n",
        "pca = PCA(n_components=2)\n",
        "pca_data = pca.fit_transform(scaled_data)\n"
      ],
      "metadata": {
        "id": "QLLLBV5IF6YC"
      },
      "execution_count": null,
      "outputs": []
    },
    {
      "cell_type": "code",
      "source": [
        "# Apply KMeans on the original dataset\n",
        "kmeans = KMeans(n_clusters=3, random_state=42)\n",
        "clusters_original = kmeans.fit_predict(scaled_data)\n",
        "\n",
        "# Add cluster labels to the dataframe\n",
        "df['Cluster_Original'] = clusters_original\n",
        "\n",
        "# Visualize the clustering results\n",
        "sns.scatterplot(x=df.iloc[:, 0], y=df.iloc[:, 1], hue=df['Cluster_Original'], palette='Set1')\n",
        "plt.title('K-Means Clustering (Original Data)')\n",
        "plt.show()\n",
        "\n",
        "# Evaluate clustering performance\n",
        "silhouette_original = silhouette_score(scaled_data, clusters_original)\n",
        "davies_bouldin_original = davies_bouldin_score(scaled_data, clusters_original)\n",
        "print(f'Silhouette Score (Original Data): {silhouette_original}')\n",
        "print(f'Davies-Bouldin Index (Original Data): {davies_bouldin_original}')\n"
      ],
      "metadata": {
        "id": "6KAB-ObSF-Ee"
      },
      "execution_count": null,
      "outputs": []
    },
    {
      "cell_type": "code",
      "source": [
        "# Apply KMeans on the PCA-transformed data\n",
        "kmeans_pca = KMeans(n_clusters=3, random_state=42)\n",
        "clusters_pca = kmeans_pca.fit_predict(pca_data)\n",
        "\n",
        "# Visualize the clustering results from PCA-transformed data\n",
        "plt.scatter(pca_data[:, 0], pca_data[:, 1], c=clusters_pca, cmap='Set1', marker='o')\n",
        "plt.title('K-Means Clustering (PCA Data)')\n",
        "plt.xlabel('Principal Component 1')\n",
        "plt.ylabel('Principal Component 2')\n",
        "plt.show()\n",
        "\n",
        "# Evaluate clustering performance\n",
        "silhouette_pca = silhouette_score(pca_data, clusters_pca)\n",
        "davies_bouldin_pca = davies_bouldin_score(pca_data, clusters_pca)\n",
        "print(f'Silhouette Score (PCA Data): {silhouette_pca}')\n",
        "print(f'Davies-Bouldin Index (PCA Data): {davies_bouldin_pca}')\n"
      ],
      "metadata": {
        "id": "_6lpyFLHGBtz"
      },
      "execution_count": null,
      "outputs": []
    },
    {
      "cell_type": "code",
      "source": [
        "# Print comparison results\n",
        "print(f'Silhouette Score (Original Data): {silhouette_original}')\n",
        "print(f'Silhouette Score (PCA Data): {silhouette_pca}')\n",
        "print(f'Davies-Bouldin Index (Original Data): {davies_bouldin_original}')\n",
        "print(f'Davies-Bouldin Index (PCA Data): {davies_bouldin_pca}')\n",
        "\n",
        "# Analysis of performance differences\n"
      ],
      "metadata": {
        "id": "uUi2QToPGCMH"
      },
      "execution_count": null,
      "outputs": []
    },
    {
      "cell_type": "code",
      "source": [],
      "metadata": {
        "id": "6KG9BRdOGFj3"
      },
      "execution_count": null,
      "outputs": []
    }
  ]
}